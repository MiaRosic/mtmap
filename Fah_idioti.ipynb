{
  "nbformat": 4,
  "nbformat_minor": 0,
  "metadata": {
    "colab": {
      "provenance": [],
      "authorship_tag": "ABX9TyNLXaQIGcRHh279nZ002f3p",
      "include_colab_link": true
    },
    "kernelspec": {
      "name": "python3",
      "display_name": "Python 3"
    },
    "language_info": {
      "name": "python"
    }
  },
  "cells": [
    {
      "cell_type": "markdown",
      "metadata": {
        "id": "view-in-github",
        "colab_type": "text"
      },
      "source": [
        "<a href=\"https://colab.research.google.com/github/MiaRosic/mtmap/blob/main/Fah_idioti.ipynb\" target=\"_parent\"><img src=\"https://colab.research.google.com/assets/colab-badge.svg\" alt=\"Open In Colab\"/></a>"
      ]
    },
    {
      "cell_type": "markdown",
      "source": [
        "## Svi potrebni paketi"
      ],
      "metadata": {
        "id": "HDujsdG_sNRk"
      }
    },
    {
      "cell_type": "code",
      "source": [
        "from google.colab import drive\n",
        "import os\n",
        "import scipy\n",
        "from scipy.io import loadmat\n",
        "import scipy.sparse\n",
        "import scipy.linalg as la\n",
        "from scipy.sparse.linalg import svds\n",
        "import pandas as pd\n",
        "import numpy as np\n",
        "from matplotlib import pyplot as plt\n",
        "from mpl_toolkits.axes_grid1.inset_locator import inset_axes\n",
        "import matplotlib as mpl\n",
        "from numpy.linalg import norm\n",
        "import math"
      ],
      "metadata": {
        "id": "D_ar_Cd8sYuX"
      },
      "execution_count": 1,
      "outputs": []
    },
    {
      "cell_type": "markdown",
      "source": [
        "##Spajanje google drive-a i google colab-a\n",
        "\n"
      ],
      "metadata": {
        "id": "DElSzO72Hop4"
      }
    },
    {
      "cell_type": "code",
      "source": [
        "drive.mount('/content/drive')\n",
        "os.listdir(\"/content/drive/MyDrive/Colab Notebooks\")"
      ],
      "metadata": {
        "colab": {
          "base_uri": "https://localhost:8080/"
        },
        "id": "a-dKCnbEL9q7",
        "outputId": "79d97e12-deab-4cd2-b54d-5a4a1cf8b12b"
      },
      "execution_count": 2,
      "outputs": [
        {
          "output_type": "stream",
          "name": "stdout",
          "text": [
            "Mounted at /content/drive\n"
          ]
        },
        {
          "output_type": "execute_result",
          "data": {
            "text/plain": [
              "['Ph300.mat', 'Ph500.mat', 'Fah_idioti.ipynb']"
            ]
          },
          "metadata": {},
          "execution_count": 2
        }
      ]
    },
    {
      "cell_type": "markdown",
      "source": [
        "##Učitavanje podataka"
      ],
      "metadata": {
        "id": "hQslHYvcOznq"
      }
    },
    {
      "cell_type": "code",
      "source": [
        "ulazni_podaci = loadmat(\"/content/drive/MyDrive/Colab Notebooks/Ph300.mat\")\n",
        "\n",
        "print (ulazni_podaci.keys()) # zadnji u rječniku je Ph300 i to koristimo za daljnje učitavanje\n",
        "\n",
        "Ph = ulazni_podaci['Ph300']\n",
        "ph=Ph.toarray()\n",
        "data = pd.DataFrame(ph)"
      ],
      "metadata": {
        "id": "JSM_vGjvHxEK",
        "colab": {
          "base_uri": "https://localhost:8080/"
        },
        "outputId": "6c54f62a-ea60-4ab5-d20d-07d137632edf"
      },
      "execution_count": 3,
      "outputs": [
        {
          "output_type": "stream",
          "name": "stdout",
          "text": [
            "dict_keys(['__header__', '__version__', '__globals__', 'Ph300'])\n"
          ]
        }
      ]
    },
    {
      "cell_type": "markdown",
      "source": [
        "## Grafički prikaz matrica"
      ],
      "metadata": {
        "id": "mnRs_qZKqn0u"
      }
    },
    {
      "cell_type": "code",
      "source": [
        "plt.imshow(np.log(data), cmap=plt.cm.get_cmap('GnBu'))\n",
        "plt.title('Početna matrica')\n",
        "plt.colorbar()\n",
        "#plt.clim(-1, 1)\n",
        "plt.show()"
      ],
      "metadata": {
        "colab": {
          "base_uri": "https://localhost:8080/",
          "height": 281
        },
        "id": "4GXVtrlknEti",
        "outputId": "0d5559c7-9e91-43ad-f8c0-3d69c3eb05ed"
      },
      "execution_count": 148,
      "outputs": [
        {
          "output_type": "display_data",
          "data": {
            "text/plain": [
              "<Figure size 432x288 with 2 Axes>"
            ],
            "image/png": "[encoded data removed]"
          },
          "metadata": {
            "needs_background": "light"
          }
        }
      ]
    },
    {
      "cell_type": "markdown",
      "source": [
        "## Grafički prikaz svojstvenih vrijednosti (prvih 20 najvećih po apsolutnoj vrijednosti)"
      ],
      "metadata": {
        "id": "DaXDiwp6wwhg"
      }
    },
    {
      "cell_type": "code",
      "source": [
        "value, vector = la.eig(data)\n",
        "svrijed = -np.sort(-abs(value))\n",
        "plt.plot(svrijed[0:19], 'bo')\n",
        "plt.title(\"Prvih 20 najvećih sv.vrijed. po apsolutnim vrijednostima\")\n",
        "plt.show()"
      ],
      "metadata": {
        "colab": {
          "base_uri": "https://localhost:8080/",
          "height": 281
        },
        "id": "S2A3BCUaqmda",
        "outputId": "6638835c-84ae-4379-b266-e4528fc68d5a"
      },
      "execution_count": 151,
      "outputs": [
        {
          "output_type": "display_data",
          "data": {
            "text/plain": [
              "<Figure size 432x288 with 1 Axes>"
            ],
            "image/png": "[encoded data removed]"
          },
          "metadata": {
            "needs_background": "light"
          }
        }
      ]
    },
    {
      "cell_type": "markdown",
      "source": [
        "## SVD algoritam"
      ],
      "metadata": {
        "id": "E7Dllo5mX_jC"
      }
    },
    {
      "cell_type": "markdown",
      "source": [
        "*   B - matrica\n",
        "*   nB - dimenzija matrice\n",
        "*   a,b - indeksi koji govore koju podmatricu gledamo\n",
        "*   r - osjetljivost\n",
        "*   m - broj klastera\n",
        "*   n - dimenzije klastera\n",
        "*   P - natrica permutacije trenutno"
      ],
      "metadata": {
        "id": "WdkFfE1erIFR"
      }
    },
    {
      "cell_type": "code",
      "source": [
        "# Radim matricu\n",
        "A = [[0.2018, 0.7752, 0.0003, 0.0093, 0.0048, 0.0064, 0.0022],\n",
        "     [0.3950, 0.5888, 0.0027, 0.0003, 0.0043, 0.0016, 0.0073],\n",
        "     [0.0093, 0.0072, 0.2911, 0.2949, 0.3938, 0.0012, 0.0025],\n",
        "     [0.0064, 0.0038, 0.1947, 0.1947, 0.5580, 0.0048, 0.0049],\n",
        "     [0.0003, 0.0063, 0.1034, 0.1028, 0.7713, 0.0092, 0.0067],\n",
        "     [0.0082, 0.0016, 0.0067, 0.0076, 0.0027, 0.6762, 0.2970],\n",
        "     [0.0089, 0.0068, 0.0030, 0.0018, 0.0065, 0.1014, 0.8715]]\n",
        "A = pd.DataFrame(A)"
      ],
      "metadata": {
        "id": "lBm0nyC2_3EB",
        "colab": {
          "base_uri": "https://localhost:8080/"
        },
        "outputId": "2ff24df4-d0e9-440a-b29a-e7b078087866"
      },
      "execution_count": 84,
      "outputs": [
        {
          "output_type": "stream",
          "name": "stdout",
          "text": [
            "0.5888\n"
          ]
        }
      ]
    },
    {
      "cell_type": "code",
      "source": [
        "#                                                          TESTIRANJE\n",
        "B=np.zeros((3,3), dtype=int)\n",
        "B[2,1]=0.0008\n",
        "print(B)"
      ],
      "metadata": {
        "colab": {
          "base_uri": "https://localhost:8080/"
        },
        "id": "Xy-swqCgcIT7",
        "outputId": "3f347375-7327-4155-eccb-c7d9de1ad84b"
      },
      "execution_count": 91,
      "outputs": [
        {
          "output_type": "stream",
          "name": "stdout",
          "text": [
            "[[0 0 0]\n",
            " [0 0 0]\n",
            " [0 0 0]]\n"
          ]
        }
      ]
    },
    {
      "cell_type": "code",
      "source": [
        "def SVD_metastabilna(B, nB, a, b, r, m, n, P):\n",
        "  [U,S,V]=np.linalg.svd(B, 2) # ova funkcija računa samo prva dva sv.vektora \n",
        "  drugi_sv_vektor=U[:,1]\n",
        "  indeksi_za_sortiranje=np.argsort(drugi_sv_vektor)\n",
        "  sortirani_drugi_sv_vektor=np.sort(drugi_sv_vektor)\n",
        "  \n",
        "  dimB=len(drugi_sv_vektor)\n",
        "  \n",
        "  niz=np.arange(dimB) # [0, 1, ..., dimB]\n",
        "  #kreiranje permutacijske matrice\n",
        "  Pp = np.zeros((dimB, dimB), dtype=int)\n",
        "  Pp[niz, indeksi_za_sortiranje]=1\n",
        "  \n",
        "  # permutiranje matrice B\n",
        "  B2=np.dot(np.dot(Pp,B), np.transpose(Pp)) # Pp * B * Pp'\n",
        "\n",
        "  # tražimo promjenu u predznaku\n",
        "  ind=(np.where(np.diff(np.sign(sortirani_drugi_sv_vektor))))[0][0]\n",
        "\n",
        "  # dodavanje permutacije u povratni P\n",
        "  D=np.identity(nB)\n",
        "  D[a:b, a:b]=Pp\n",
        "  P=np.dot(D,P)\n",
        "\n",
        "  # izdvajanje blokova B_prvi i B_drugi\n",
        "  B_1=B2[0:ind+1, 0:ind+1]\n",
        "  B_2=B2[ind+1:dimB, ind+1:dimB]\n",
        "\n",
        "  # norma\n",
        "  norma_1=(B_1.sum().sum())/ind\n",
        "  norma_2=(B_2.sum().sum())/(dimB-ind)\n",
        "\n",
        "  if ((norma_1>r) and (norma_2>r)):\n",
        "    m,n,P= SVD_metastabilna(B_1, nB, a, a+ind+1, r, m, n, P)\n",
        "    m,n,P= SVD_metastabilna(B_2, nB, a+ind+1, b, r, m, n, P)\n",
        "    return m, n, P\n",
        "  else:\n",
        "    m=m+1\n",
        "    n.append(dimB)\n",
        "    return m, n, P"
      ],
      "metadata": {
        "id": "OBLdXFajoN9c"
      },
      "execution_count": 47,
      "outputs": []
    },
    {
      "cell_type": "code",
      "source": [
        "dimenzija = len(data)\n",
        "m,n,P=SVD_metastabilna(B=data, nB=dimenzija, a=0, b=dimenzija, r=0.5, m=0, n=[], P=np.identity(dimenzija))\n",
        "Q=np.dot(np.dot(P,data), np.transpose(P))\n",
        "df = pd.DataFrame(Q)\n",
        "print(f\"m: {m}\")\n",
        "print(f\"n: {n}\")\n",
        "df.head(7)"
      ],
      "metadata": {
        "colab": {
          "base_uri": "https://localhost:8080/",
          "height": 333
        },
        "id": "iJ9XpHCzqZyH",
        "outputId": "ceb5b35b-4883-4970-aad1-2b3367889639"
      },
      "execution_count": 103,
      "outputs": [
        {
          "output_type": "stream",
          "name": "stdout",
          "text": [
            "m: 7\n",
            "n: [47, 20, 42, 24, 36, 46, 40]\n"
          ]
        },
        {
          "output_type": "execute_result",
          "data": {
            "text/plain": [
              "        0         1    2         3         4         5    6    7         8    \\\n",
              "0  0.004505  0.000751  0.0  0.000751  0.000751  0.000000  0.0  0.0  0.000000   \n",
              "1  0.002924  0.000000  0.0  0.000000  0.000000  0.000000  0.0  0.0  0.000000   \n",
              "2  0.000000  0.000000  0.0  0.000000  0.000000  0.000000  0.0  0.0  0.000000   \n",
              "3  0.003289  0.000000  0.0  0.000000  0.000000  0.003289  0.0  0.0  0.000000   \n",
              "4  0.009434  0.000000  0.0  0.000000  0.000000  0.000000  0.0  0.0  0.009434   \n",
              "5  0.000000  0.000000  0.0  0.010417  0.000000  0.000000  0.0  0.0  0.000000   \n",
              "6  0.000000  0.000000  0.0  0.000000  0.000000  0.000000  0.0  0.0  0.000000   \n",
              "\n",
              "   9    ...  245  246  247  248  249  250  251  252  253  254  \n",
              "0  0.0  ...  0.0  0.0  0.0  0.0  0.0  0.0  0.0  0.0  0.0  0.0  \n",
              "1  0.0  ...  0.0  0.0  0.0  0.0  0.0  0.0  0.0  0.0  0.0  0.0  \n",
              "2  0.0  ...  0.0  0.0  0.0  0.0  0.0  0.0  0.0  0.0  0.0  0.0  \n",
              "3  0.0  ...  0.0  0.0  0.0  0.0  0.0  0.0  0.0  0.0  0.0  0.0  \n",
              "4  0.0  ...  0.0  0.0  0.0  0.0  0.0  0.0  0.0  0.0  0.0  0.0  \n",
              "5  0.0  ...  0.0  0.0  0.0  0.0  0.0  0.0  0.0  0.0  0.0  0.0  \n",
              "6  0.0  ...  0.0  0.0  0.0  0.0  0.0  0.0  0.0  0.0  0.0  0.0  \n",
              "\n",
              "[7 rows x 255 columns]"
            ],
            "text/html": [
              "\n",
              "  <div id=\"df-ad6cac67-8456-4094-b682-d62b961fe068\">\n",
              "    <div class=\"colab-df-container\">\n",
              "      <div>\n",
              "<style scoped>\n",
              "    .dataframe tbody tr th:only-of-type {\n",
              "        vertical-align: middle;\n",
              "    }\n",
              "\n",
              "    .dataframe tbody tr th {\n",
              "        vertical-align: top;\n",
              "    }\n",
              "\n",
              "    .dataframe thead th {\n",
              "        text-align: right;\n",
              "    }\n",
              "</style>\n",
              "<table border=\"1\" class=\"dataframe\">\n",
              "  <thead>\n",
              "    <tr style=\"text-align: right;\">\n",
              "      <th></th>\n",
              "      <th>0</th>\n",
              "      <th>1</th>\n",
              "      <th>2</th>\n",
              "      <th>3</th>\n",
              "      <th>4</th>\n",
              "      <th>5</th>\n",
              "      <th>6</th>\n",
              "      <th>7</th>\n",
              "      <th>8</th>\n",
              "      <th>9</th>\n",
              "      <th>...</th>\n",
              "      <th>245</th>\n",
              "      <th>246</th>\n",
              "      <th>247</th>\n",
              "      <th>248</th>\n",
              "      <th>249</th>\n",
              "      <th>250</th>\n",
              "      <th>251</th>\n",
              "      <th>252</th>\n",
              "      <th>253</th>\n",
              "      <th>254</th>\n",
              "    </tr>\n",
              "  </thead>\n",
              "  <tbody>\n",
              "    <tr>\n",
              "      <th>0</th>\n",
              "      <td>0.004505</td>\n",
              "      <td>0.000751</td>\n",
              "      <td>0.0</td>\n",
              "      <td>0.000751</td>\n",
              "      <td>0.000751</td>\n",
              "      <td>0.000000</td>\n",
              "      <td>0.0</td>\n",
              "      <td>0.0</td>\n",
              "      <td>0.000000</td>\n",
              "      <td>0.0</td>\n",
              "      <td>...</td>\n",
              "      <td>0.0</td>\n",
              "      <td>0.0</td>\n",
              "      <td>0.0</td>\n",
              "      <td>0.0</td>\n",
              "      <td>0.0</td>\n",
              "      <td>0.0</td>\n",
              "      <td>0.0</td>\n",
              "      <td>0.0</td>\n",
              "      <td>0.0</td>\n",
              "      <td>0.0</td>\n",
              "    </tr>\n",
              "    <tr>\n",
              "      <th>1</th>\n",
              "      <td>0.002924</td>\n",
              "      <td>0.000000</td>\n",
              "      <td>0.0</td>\n",
              "      <td>0.000000</td>\n",
              "      <td>0.000000</td>\n",
              "      <td>0.000000</td>\n",
              "      <td>0.0</td>\n",
              "      <td>0.0</td>\n",
              "      <td>0.000000</td>\n",
              "      <td>0.0</td>\n",
              "      <td>...</td>\n",
              "      <td>0.0</td>\n",
              "      <td>0.0</td>\n",
              "      <td>0.0</td>\n",
              "      <td>0.0</td>\n",
              "      <td>0.0</td>\n",
              "      <td>0.0</td>\n",
              "      <td>0.0</td>\n",
              "      <td>0.0</td>\n",
              "      <td>0.0</td>\n",
              "      <td>0.0</td>\n",
              "    </tr>\n",
              "    <tr>\n",
              "      <th>2</th>\n",
              "      <td>0.000000</td>\n",
              "      <td>0.000000</td>\n",
              "      <td>0.0</td>\n",
              "      <td>0.000000</td>\n",
              "      <td>0.000000</td>\n",
              "      <td>0.000000</td>\n",
              "      <td>0.0</td>\n",
              "      <td>0.0</td>\n",
              "      <td>0.000000</td>\n",
              "      <td>0.0</td>\n",
              "      <td>...</td>\n",
              "      <td>0.0</td>\n",
              "      <td>0.0</td>\n",
              "      <td>0.0</td>\n",
              "      <td>0.0</td>\n",
              "      <td>0.0</td>\n",
              "      <td>0.0</td>\n",
              "      <td>0.0</td>\n",
              "      <td>0.0</td>\n",
              "      <td>0.0</td>\n",
              "      <td>0.0</td>\n",
              "    </tr>\n",
              "    <tr>\n",
              "      <th>3</th>\n",
              "      <td>0.003289</td>\n",
              "      <td>0.000000</td>\n",
              "      <td>0.0</td>\n",
              "      <td>0.000000</td>\n",
              "      <td>0.000000</td>\n",
              "      <td>0.003289</td>\n",
              "      <td>0.0</td>\n",
              "      <td>0.0</td>\n",
              "      <td>0.000000</td>\n",
              "      <td>0.0</td>\n",
              "      <td>...</td>\n",
              "      <td>0.0</td>\n",
              "      <td>0.0</td>\n",
              "      <td>0.0</td>\n",
              "      <td>0.0</td>\n",
              "      <td>0.0</td>\n",
              "      <td>0.0</td>\n",
              "      <td>0.0</td>\n",
              "      <td>0.0</td>\n",
              "      <td>0.0</td>\n",
              "      <td>0.0</td>\n",
              "    </tr>\n",
              "    <tr>\n",
              "      <th>4</th>\n",
              "      <td>0.009434</td>\n",
              "      <td>0.000000</td>\n",
              "      <td>0.0</td>\n",
              "      <td>0.000000</td>\n",
              "      <td>0.000000</td>\n",
              "      <td>0.000000</td>\n",
              "      <td>0.0</td>\n",
              "      <td>0.0</td>\n",
              "      <td>0.009434</td>\n",
              "      <td>0.0</td>\n",
              "      <td>...</td>\n",
              "      <td>0.0</td>\n",
              "      <td>0.0</td>\n",
              "      <td>0.0</td>\n",
              "      <td>0.0</td>\n",
              "      <td>0.0</td>\n",
              "      <td>0.0</td>\n",
              "      <td>0.0</td>\n",
              "      <td>0.0</td>\n",
              "      <td>0.0</td>\n",
              "      <td>0.0</td>\n",
              "    </tr>\n",
              "    <tr>\n",
              "      <th>5</th>\n",
              "      <td>0.000000</td>\n",
              "      <td>0.000000</td>\n",
              "      <td>0.0</td>\n",
              "      <td>0.010417</td>\n",
              "      <td>0.000000</td>\n",
              "      <td>0.000000</td>\n",
              "      <td>0.0</td>\n",
              "      <td>0.0</td>\n",
              "      <td>0.000000</td>\n",
              "      <td>0.0</td>\n",
              "      <td>...</td>\n",
              "      <td>0.0</td>\n",
              "      <td>0.0</td>\n",
              "      <td>0.0</td>\n",
              "      <td>0.0</td>\n",
              "      <td>0.0</td>\n",
              "      <td>0.0</td>\n",
              "      <td>0.0</td>\n",
              "      <td>0.0</td>\n",
              "      <td>0.0</td>\n",
              "      <td>0.0</td>\n",
              "    </tr>\n",
              "    <tr>\n",
              "      <th>6</th>\n",
              "      <td>0.000000</td>\n",
              "      <td>0.000000</td>\n",
              "      <td>0.0</td>\n",
              "      <td>0.000000</td>\n",
              "      <td>0.000000</td>\n",
              "      <td>0.000000</td>\n",
              "      <td>0.0</td>\n",
              "      <td>0.0</td>\n",
              "      <td>0.000000</td>\n",
              "      <td>0.0</td>\n",
              "      <td>...</td>\n",
              "      <td>0.0</td>\n",
              "      <td>0.0</td>\n",
              "      <td>0.0</td>\n",
              "      <td>0.0</td>\n",
              "      <td>0.0</td>\n",
              "      <td>0.0</td>\n",
              "      <td>0.0</td>\n",
              "      <td>0.0</td>\n",
              "      <td>0.0</td>\n",
              "      <td>0.0</td>\n",
              "    </tr>\n",
              "  </tbody>\n",
              "</table>\n",
              "<p>7 rows × 255 columns</p>\n",
              "</div>\n",
              "      <button class=\"colab-df-convert\" onclick=\"convertToInteractive('df-ad6cac67-8456-4094-b682-d62b961fe068')\"\n",
              "              title=\"Convert this dataframe to an interactive table.\"\n",
              "              style=\"display:none;\">\n",
              "        \n",
              "  <svg xmlns=\"http://www.w3.org/2000/svg\" height=\"24px\"viewBox=\"0 0 24 24\"\n",
              "       width=\"24px\">\n",
              "    <path d=\"M0 0h24v24H0V0z\" fill=\"none\"/>\n",
              "    <path d=\"M18.56 5.44l.94 2.06.94-2.06 2.06-.94-2.06-.94-.94-2.06-.94 2.06-2.06.94zm-11 1L8.5 8.5l.94-2.06 2.06-.94-2.06-.94L8.5 2.5l-.94 2.06-2.06.94zm10 10l.94 2.06.94-2.06 2.06-.94-2.06-.94-.94-2.06-.94 2.06-2.06.94z\"/><path d=\"M17.41 7.96l-1.37-1.37c-.4-.4-.92-.59-1.43-.59-.52 0-1.04.2-1.43.59L10.3 9.45l-7.72 7.72c-.78.78-.78 2.05 0 2.83L4 21.41c.39.39.9.59 1.41.59.51 0 1.02-.2 1.41-.59l7.78-7.78 2.81-2.81c.8-.78.8-2.07 0-2.86zM5.41 20L4 18.59l7.72-7.72 1.47 1.35L5.41 20z\"/>\n",
              "  </svg>\n",
              "      </button>\n",
              "      \n",
              "  <style>\n",
              "    .colab-df-container {\n",
              "      display:flex;\n",
              "      flex-wrap:wrap;\n",
              "      gap: 12px;\n",
              "    }\n",
              "\n",
              "    .colab-df-convert {\n",
              "      background-color: #E8F0FE;\n",
              "      border: none;\n",
              "      border-radius: 50%;\n",
              "      cursor: pointer;\n",
              "      display: none;\n",
              "      fill: #1967D2;\n",
              "      height: 32px;\n",
              "      padding: 0 0 0 0;\n",
              "      width: 32px;\n",
              "    }\n",
              "\n",
              "    .colab-df-convert:hover {\n",
              "      background-color: #E2EBFA;\n",
              "      box-shadow: 0px 1px 2px rgba(60, 64, 67, 0.3), 0px 1px 3px 1px rgba(60, 64, 67, 0.15);\n",
              "      fill: #174EA6;\n",
              "    }\n",
              "\n",
              "    [theme=dark] .colab-df-convert {\n",
              "      background-color: #3B4455;\n",
              "      fill: #D2E3FC;\n",
              "    }\n",
              "\n",
              "    [theme=dark] .colab-df-convert:hover {\n",
              "      background-color: #434B5C;\n",
              "      box-shadow: 0px 1px 3px 1px rgba(0, 0, 0, 0.15);\n",
              "      filter: drop-shadow(0px 1px 2px rgba(0, 0, 0, 0.3));\n",
              "      fill: #FFFFFF;\n",
              "    }\n",
              "  </style>\n",
              "\n",
              "      <script>\n",
              "        const buttonEl =\n",
              "          document.querySelector('#df-ad6cac67-8456-4094-b682-d62b961fe068 button.colab-df-convert');\n",
              "        buttonEl.style.display =\n",
              "          google.colab.kernel.accessAllowed ? 'block' : 'none';\n",
              "\n",
              "        async function convertToInteractive(key) {\n",
              "          const element = document.querySelector('#df-ad6cac67-8456-4094-b682-d62b961fe068');\n",
              "          const dataTable =\n",
              "            await google.colab.kernel.invokeFunction('convertToInteractive',\n",
              "                                                     [key], {});\n",
              "          if (!dataTable) return;\n",
              "\n",
              "          const docLinkHtml = 'Like what you see? Visit the ' +\n",
              "            '<a target=\"_blank\" href=https://colab.research.google.com/notebooks/data_table.ipynb>data table notebook</a>'\n",
              "            + ' to learn more about interactive tables.';\n",
              "          element.innerHTML = '';\n",
              "          dataTable['output_type'] = 'display_data';\n",
              "          await google.colab.output.renderOutput(dataTable, element);\n",
              "          const docLink = document.createElement('div');\n",
              "          docLink.innerHTML = docLinkHtml;\n",
              "          element.appendChild(docLink);\n",
              "        }\n",
              "      </script>\n",
              "    </div>\n",
              "  </div>\n",
              "  "
            ]
          },
          "metadata": {},
          "execution_count": 103
        }
      ]
    },
    {
      "cell_type": "code",
      "source": [
        "mA,nA,PA=SVD_metastabilna(B=A, nB=7, a=0, b=7, r=0.5, m=0, n=[], P=np.identity(7))\n",
        "QA=np.dot(np.dot(PA,A), np.transpose(PA))\n",
        "print(QA)\n",
        "print(f\"m: {mA}\")\n",
        "print(f\"n: {nA}\")"
      ],
      "metadata": {
        "colab": {
          "base_uri": "https://localhost:8080/"
        },
        "id": "Vqz9ukg9Bks8",
        "outputId": "ec1f6eb7-270a-494e-f743-9042b7467c21"
      },
      "execution_count": 105,
      "outputs": [
        {
          "output_type": "stream",
          "name": "stdout",
          "text": [
            "[[8.715e-01 1.014e-01 6.800e-03 8.900e-03 6.500e-03 1.800e-03 3.000e-03]\n",
            " [2.970e-01 6.762e-01 1.600e-03 8.200e-03 2.700e-03 7.600e-03 6.700e-03]\n",
            " [7.300e-03 1.600e-03 5.888e-01 3.950e-01 4.300e-03 3.000e-04 2.700e-03]\n",
            " [2.200e-03 6.400e-03 7.752e-01 2.018e-01 4.800e-03 9.300e-03 3.000e-04]\n",
            " [6.700e-03 9.200e-03 6.300e-03 3.000e-04 7.713e-01 1.028e-01 1.034e-01]\n",
            " [4.900e-03 4.800e-03 3.800e-03 6.400e-03 5.580e-01 1.947e-01 1.947e-01]\n",
            " [2.500e-03 1.200e-03 7.200e-03 9.300e-03 3.938e-01 2.949e-01 2.911e-01]]\n",
            "m: 3\n",
            "n: [2, 2, 3]\n"
          ]
        },
        {
          "output_type": "stream",
          "name": "stderr",
          "text": [
            "<ipython-input-47-ce8481e3c5fc>:30: RuntimeWarning: divide by zero encountered in double_scalars\n",
            "  norma_1=(B_1.sum().sum())/ind\n"
          ]
        }
      ]
    },
    {
      "cell_type": "markdown",
      "source": [
        "## Algoritam za matricu veza\n",
        "\n"
      ],
      "metadata": {
        "id": "mFh8jjA4344r"
      }
    },
    {
      "cell_type": "code",
      "source": [
        "def matrica_veza(Q, n, m):\n",
        "  W=np.zeros((m,m), dtype=np.double)\n",
        "  k=-1\n",
        "  for i in range(m):\n",
        "    l=-1\n",
        "    for j in range(m):\n",
        "      podmatrica_od_Q =Q[(k+1):(k+n[i]+1),  (l+1):(l+n[j]+1)]\n",
        "      velicina_na_W_i_j = (podmatrica_od_Q.sum().sum()) / n[i]\n",
        "      W[i,j] = round( velicina_na_W_i_j, 4)\n",
        "      l+=n[j]\n",
        "    k+=n[i]\n",
        "  return W"
      ],
      "metadata": {
        "id": "PUwlv1D_4N_A"
      },
      "execution_count": 138,
      "outputs": []
    },
    {
      "cell_type": "code",
      "source": [
        "WA=matrica_veza(QA,nA,mA)\n",
        "print(WA)"
      ],
      "metadata": {
        "colab": {
          "base_uri": "https://localhost:8080/"
        },
        "id": "UtsQZd0z-4hu",
        "outputId": "00ae8d9c-7963-43bc-d37f-e115f2634b46"
      },
      "execution_count": 139,
      "outputs": [
        {
          "output_type": "stream",
          "name": "stdout",
          "text": [
            "[[0.973  0.0128 0.0142]\n",
            " [0.0088 0.9804 0.0108]\n",
            " [0.0098 0.0111 0.9682]]\n"
          ]
        }
      ]
    },
    {
      "cell_type": "code",
      "source": [
        "W=matrica_veza(Q,n,m)\n",
        "print(W)"
      ],
      "metadata": {
        "colab": {
          "base_uri": "https://localhost:8080/"
        },
        "id": "ZBixg-yV5WA0",
        "outputId": "d493ad36-655d-470c-c5b3-af3a0ad363b9"
      },
      "execution_count": 140,
      "outputs": [
        {
          "output_type": "stream",
          "name": "stdout",
          "text": [
            "[[8.027e-01 3.760e-02 2.300e-03 1.600e-03 3.610e-02 9.840e-02 2.120e-02]\n",
            " [6.650e-02 8.178e-01 1.110e-01 0.000e+00 0.000e+00 4.700e-03 0.000e+00]\n",
            " [2.000e-03 1.600e-02 8.478e-01 0.000e+00 1.600e-03 8.830e-02 4.430e-02]\n",
            " [2.080e-02 0.000e+00 0.000e+00 6.590e-01 2.315e-01 1.170e-02 7.700e-02]\n",
            " [6.710e-02 0.000e+00 1.100e-03 5.390e-02 8.141e-01 6.350e-02 4.000e-04]\n",
            " [5.280e-02 8.000e-04 4.730e-02 1.450e-02 1.208e-01 6.691e-01 9.480e-02]\n",
            " [1.080e-02 0.000e+00 3.030e-02 6.640e-02 7.600e-03 4.020e-02 8.448e-01]]\n"
          ]
        }
      ]
    },
    {
      "cell_type": "markdown",
      "source": [
        "## Grafički prikaz permutirane matrice"
      ],
      "metadata": {
        "id": "Od3YzRxbABix"
      }
    },
    {
      "cell_type": "code",
      "source": [
        "plt.imshow(np.log(Q), cmap=plt.cm.get_cmap('GnBu'))\n",
        "plt.title('Permutirana matrica')\n",
        "plt.colorbar()\n",
        "#plt.clim(-1, 1)\n",
        "plt.show()"
      ],
      "metadata": {
        "colab": {
          "base_uri": "https://localhost:8080/",
          "height": 316
        },
        "id": "T2s0Y53OAM5f",
        "outputId": "7a11d2c3-8d5e-451a-da85-bd4b254b6d69"
      },
      "execution_count": 152,
      "outputs": [
        {
          "output_type": "stream",
          "name": "stderr",
          "text": [
            "<ipython-input-152-7e9470d432c5>:1: RuntimeWarning: divide by zero encountered in log\n",
            "  plt.imshow(np.log(Q), cmap=plt.cm.get_cmap('GnBu'))\n"
          ]
        },
        {
          "output_type": "display_data",
          "data": {
            "text/plain": [
              "<Figure size 432x288 with 2 Axes>"
            ],
            "image/png": "[encoded data removed]"
          },
          "metadata": {
            "needs_background": "light"
          }
        }
      ]
    },
    {
      "cell_type": "code",
      "source": [
        "# Za matricu A\n",
        "plt.imshow(np.log(QA), cmap=plt.cm.get_cmap('GnBu'))\n",
        "plt.title('Permutirana matrica od A')\n",
        "plt.colorbar()\n",
        "#plt.clim(-1, 1)\n",
        "plt.show()"
      ],
      "metadata": {
        "colab": {
          "base_uri": "https://localhost:8080/",
          "height": 281
        },
        "id": "5XsDTbGbBAa7",
        "outputId": "4fc41fb5-cbb0-4d79-edd5-9c744a555828"
      },
      "execution_count": 153,
      "outputs": [
        {
          "output_type": "display_data",
          "data": {
            "text/plain": [
              "<Figure size 432x288 with 2 Axes>"
            ],
            "image/png": "[encoded data removed]"
          },
          "metadata": {
            "needs_background": "light"
          }
        }
      ]
    }
  ]
}